{
 "cells": [
  {
   "cell_type": "markdown",
   "metadata": {},
   "source": [
    "# Random Variables"
   ]
  },
  {
   "cell_type": "markdown",
   "metadata": {},
   "source": [
    "## Definisi dari Random Variable"
   ]
  },
  {
   "cell_type": "markdown",
   "metadata": {},
   "source": [
    "- Random variable $X$: Mapping dari ruang sampel $S$ ke garis bilangan real $R$.  \n",
    "Ini berarti random variable $X$ adalah suatu aturan yang mengaitkan setiap hasil kemungkinan dari suatu eksperimen (dari ruang sampel) dengan suatu angka pada garis bilangan real.  \n",
    "    \n",
    "    Misalnya saat melempar dadu. Ruang sampel ($S$) adalah semua hasil yang mungkin dihasilkan dari pelemparan dadu, yaitu angka 1 sampai 6. Garis bilangan real ($R$) adalah garis yang mencakup semua angka, termasuk angka desimal seperti 1.5 atau -3.  \n",
    "    \n",
    "    Random variable adalah aturan yang menghubungkan setiap hasil pelemparan dadu dengan suatu angka pada garis bilangan real. Misalnya, jika kita melempar dadu dan hasilnya adalah 4, maka random variable bisa menghubungkan hasil ini dengan angka 4 di garis bilangan real.  \n",
    "\n",
    "- Nilai numerik $X(w)$ yang dihubungkan dengan setiap hasil $x$ dari eksperimen tertentu. \n",
    "    Ini menggambarkan bahwa untuk setiap hasil khusus $w$ dari suatu eksperimen, random variable $X$ akan memberikan nilai numerik tertentu, yang disebut $X(w)$. Misalnya, jika saat melempar dadu, hasilnya adalah 3, maka random variable akan memberikan nilai numerik $X(3)$. Jadi, random variable memberikan cara untuk memberi label atau mengasosiasikan nilai numerik dengan setiap hasil yang mungkin dari suatu eksperimen.\n",
    "\n",
    "    **Kesimpulan**: Random variable adalah cara untuk mengubah hasil-hasil eksperimen menjadi angka-angka sehingga kita bisa menganalisisnya menggunakan matematika dan statistika. Ini memungkinkan kita untuk memahami dan memodelkan fenomena acak."
   ]
  },
  {
   "cell_type": "markdown",
   "metadata": {},
   "source": [
    "## Discrete random variables  \n",
    "Jenis variabel acak ini hanya dapat mengambil sejumlah nilai yang dapat dihitung. Beberapa contoh variabel acak diskrit adalah:\n",
    "\n",
    "- Jenis kelamin\n",
    "- Jumlah siswa di sebuah kelas\n",
    "- Jumlah mobil yang dijual oleh sebuah perusahaan dalam sehari\n",
    "- Jumlah orang yang mengunjungi sebuah situs web dalam satu jam"
   ]
  },
  {
   "cell_type": "markdown",
   "metadata": {},
   "source": [
    "### Probability Mass Function"
   ]
  },
  {
   "cell_type": "markdown",
   "metadata": {},
   "source": [
    "-  fungsi yang memberikan probabilitas untuk setiap nilai yang mungkin dari variabel acak diskrit. Kata \"mass\" di sini mirip dengan konsep massa dalam fisika, di mana setiap nilai memiliki \"massa\" probabilitasnya sendiri. Ini biasanya dilambangkan dengan $p(x)$ atau $P(X = x)$  \n",
    "- PMF adalah kumpulan nilai probabilitas $p_i$ yang diberikan untuk setiap nilai yang diambil oleh variabel acak diskrit $x_i$ \n",
    "- $ 0 \\leq p_i \\leq 1 \\text{ dan } \\sum_i p_i = 1$  \n",
    "Artinya nilai probabilitas $p_i$ harus berada dalam rentang $ 0 \\leq p_i \\leq 1 \\ $, yang berarti probabilitas tidak bisa lebih kecil dari 0 atau lebih besar dari 1. $ \\sum_i p_i = 1$   \n",
    "Artinya, jumlah dari semua nilai probabilitas $p_i$ arus sama dengan 1, karena probabilitas total dari semua kemungkinan hasil harus sama dengan 1.\n",
    " \n",
    "- Probability: $P(X = x_i) = p_i$  \n",
    "merupakan probabilitas bahwa variabel acak $X$ mengambil nilai $x_i$ yang sama dengan nilai probabilitas $p_i$ yang diberikan oleh PMF.  \n",
    "\n",
    "Sebagai contoh, mari kita lihat melempar dadu. Ada 6 hasil kemungkinan, yaitu angka 1 sampai 6. Jadi, PMF akan memberikan probabilitas untuk masing-masing angka dari 1 hingga 6. Jika pelemparan dadu adil, maka probabilitas untuk masing-masing angka akan $\\frac{1}{6}$, karena ada enam angka yang mungkin dan semuanya sama mungkinnya. Jadi,\n",
    "\n",
    "$$\n",
    "p(1) = p(2) = p(3) = p(4) = p(5) = p(6) = \\frac{1}{6}\n",
    "$$\n",
    "\n",
    "\n",
    "**Kesimpulan:**  Dalam hal ini, PMF membantu kita memahami seberapa mungkin kita akan mendapatkan masing-masing angka saat melempar dadu, yang merupakan contoh dari variabel acak."
   ]
  },
  {
   "cell_type": "markdown",
   "metadata": {},
   "source": [
    "### Cumulative Distribution Function"
   ]
  },
  {
   "cell_type": "markdown",
   "metadata": {},
   "source": [
    "- Cumulative Distribution Function (CDF): $F(x) = P(X \\leq x)$.  \n",
    "Rumus tersebut menyatakan bahwa CDF (Fungsi Distribusi Kumulatif) dari suatu variabel acak $X$, dilambangkan dengan $F(x)$, adalah probabilitas bahwa variabel acak $X$ memiliki nilai kurang dari atau sama dengan $x$.Dalam notasi matematika, itu diwakili sebagai $F(x)=P(X≤x)$, di mana $P(X≤x)$ adalah probabilitas bahwa $X$ kurang dari atau sama dengan $x$.\n",
    "\n",
    "    Misalnya, jika kita memiliki dadu biasa dengan enam sisi dan ingin mengetahui probabilitas mendapatkan angka yang kurang dari atau sama dengan 3 dalam satu lemparan dadu, kita dapat menggunakan CDF.\n",
    "\n",
    "    Mari kita lihat:\n",
    "\n",
    "    - Variabel acak $X$: hasil pelemparan dadu (nilai dapat berupa 1, 2, 3, 4, 5, atau 6).\n",
    "    - Kita ingin mencari $P(X \\leq 3)$, yaitu probabilitas bahwa hasil pelemparan dadu akan kurang dari atau sama dengan 3.\n",
    "\n",
    "    Untuk kasus pelemparan dadu, karena setiap hasil memiliki probabilitas yang sama (dadu biasa), kita dapat menghitung probabilitasnya secara langsung.\n",
    "\n",
    "    $$ P(X \\leq 3) = \\frac{\\text{Jumlah hasil yang kurang dari atau sama dengan 3}}{\\text{Jumlah semua kemungkinan hasil}} $$\n",
    "\n",
    "    Dalam kasus ini, ada tiga hasil yang kurang dari atau sama dengan 3 (yaitu 1, 2, dan 3) dan enam kemungkinan hasil yang mungkin (1 sampai 6). Jadi,\n",
    "\n",
    "    $$ P(X \\leq 3) = \\frac{3}{6} = \\frac{1}{2} $$\n",
    "\n",
    "    Jadi, menggunakan CDF dalam kasus pelemparan dadu memberikan kita kemungkinan untuk menentukan probabilitas mendapatkan hasil tertentu atau lebih rendah dalam satu lemparan dadu.\n",
    "\n"
   ]
  },
  {
   "cell_type": "markdown",
   "metadata": {},
   "source": [
    "## Continuous Random Variables\n",
    "Continuous Random Variables atau variabel acak kontinu adalah variabel yang dapat mengambil nilai-nilai dalam kisaran(renctang) nilai real apa pun. Contoh dari variabel acak kontinu antara lain:\n",
    "- Waktu yang dibutuhkan untuk menyelesaikan sebuah tugas\n",
    "- Tinggi seseorang\n",
    "- Berat badan seseorang\n",
    "- Pendapatan seseorang"
   ]
  },
  {
   "cell_type": "markdown",
   "metadata": {},
   "source": [
    "### Probability Density Function\n",
    "Distribusi probabilitas dari variabel acak kontinu dapat dihitung menggunakan apa yang disebut dengan  probability density function (PDF), dalam bahasa Indonesia, fungsi kepadatan probabilitas.  \n",
    "\n",
    "PDF adalah fungsi yang menetapkan probabilitas untuk hasil-hasil kontinu. Probabilitas dari variabel acak kontinu mengambil nilai tertentu adalah 0 tetapi probabilitas dari variabel tersebut mengambil nilai dalam suatu rentang adalah tidak nol. Untuk menghitung probabilitas, kita perlu mengintegrasikan PDF di atas rentang tersebut."
   ]
  },
  {
   "cell_type": "code",
   "execution_count": 1,
   "metadata": {},
   "outputs": [],
   "source": [
    "# Import here useful libraries\n",
    "import numpy as np\n",
    "from scipy import stats\n",
    "import scipy\n",
    "import warnings\n",
    "from sympy import symbols\n",
    "from sympy import integrate\n",
    "warnings.simplefilter('ignore', DeprecationWarning)"
   ]
  },
  {
   "cell_type": "markdown",
   "metadata": {},
   "source": [
    "- Probability Density Function (pdf): \n",
    "\n",
    "\\begin{equation}\n",
    "    f(x) \\geq 0\n",
    "\\end{equation}\n",
    "\\begin{equation}\n",
    "    \\int_{-\\infty}^{\\infty} f(x) dx = 1\n",
    "\\end{equation}"
   ]
  },
  {
   "cell_type": "markdown",
   "metadata": {},
   "source": [
    "**Ket:**  \n",
    "Persamaan pertama $(f(x)≥0)$ menunjukkan bahwa nilai PDF harus non-negatif untuk setiap nilai $x$. Ini bermakna bahwa probabilitas untuk suatu nilai tertentu atau rentang nilai tidak bisa negatif.\n",
    "\n",
    "Persamaan kedua, \n",
    "\\begin{equation}\n",
    "    \\int_{-\\infty}^{\\infty} f(x) dx = 1\n",
    "\\end{equation} ,\n",
    "menunjukkan bahwa luas di bawah kurva PDF harus sama dengan 1. Ini menjamin bahwa total probabilitas dari semua kemungkinan nilai harus sama dengan 1. Dengan kata lain, jika Anda mengintegrasikan PDF dari negatif tak hingga hingga positif tak hingga, hasilnya harus 1."
   ]
  },
  {
   "cell_type": "markdown",
   "metadata": {},
   "source": [
    "## Penerapan Random Variables"
   ]
  },
  {
   "cell_type": "markdown",
   "metadata": {},
   "source": [
    "Implementasi variabel acak dengan tipe bilangan Integer dapat dilakukan dengan menggunakan fungsi `randint()` dari module `random`. Caranya adalah dengan memasukkan angka sebagai batas atas dan batas bawahnya."
   ]
  },
  {
   "cell_type": "code",
   "execution_count": 2,
   "metadata": {},
   "outputs": [
    {
     "name": "stdout",
     "output_type": "stream",
     "text": [
      "18\n"
     ]
    }
   ],
   "source": [
    "X = np.random.randint(0,100)\n",
    "print(X)"
   ]
  },
  {
   "cell_type": "markdown",
   "metadata": {},
   "source": [
    "Kita juga dapat membuat sebuah array dari angka float menggunakan fungsi `rand() `dalam NumPy. Fungsi `rand()` mengambil parameter bentuk yang menentukan ukuran array. Misalnya, jika kita ingin membuat sebuah array dari angka float dengan bentuk (10, ), caranya adalah sebagai berikut:"
   ]
  },
  {
   "cell_type": "code",
   "execution_count": 3,
   "metadata": {},
   "outputs": [
    {
     "data": {
      "text/plain": [
       "array([0.18899056, 0.80039273, 0.23199537, 0.58585946, 0.30653596,\n",
       "       0.01371199, 0.90938685, 0.67321632, 0.79573582, 0.52991049])"
      ]
     },
     "execution_count": 3,
     "metadata": {},
     "output_type": "execute_result"
    }
   ],
   "source": [
    "X = np.random.rand(10)\n",
    "X"
   ]
  },
  {
   "cell_type": "markdown",
   "metadata": {},
   "source": [
    "Untuk menghitung distribusi probabilitas dari variabel acak diskrit, kita dapat menggunakan pustaka `scipy.stats` dalam Python. Library `scipy.stats` berisi sejumlah distribusi probabilitas serta fungsi untuk menghitung berbagai properti statistik seperti rata-rata, varians, dan lain sebagainya."
   ]
  },
  {
   "cell_type": "code",
   "execution_count": 4,
   "metadata": {},
   "outputs": [
    {
     "name": "stdout",
     "output_type": "stream",
     "text": [
      "[0.1 0.4 0.3 0.1 0.1]\n"
     ]
    }
   ],
   "source": [
    "# Impor modul rv_discrete dari pustaka scipy.stats\n",
    "from scipy.stats import rv_discrete\n",
    "\n",
    "# Membuat array x yang berisi angka dari 0 hingga 4\n",
    "x = np.arange(5) \n",
    "\n",
    "# Mendefinisikan probabilitas masing-masing nilai dalam array x\n",
    "P_x = [0.1, 0.4, 0.3, 0.1, 0.1] \n",
    "\n",
    "# Membuat objek variabel acak X menggunakan modul rv_discrete\n",
    "# dengan menggunakan array x sebagai nilai-nilai dan P_x sebagai probabilitasnya\n",
    "X = rv_discrete(name='X', values=(x, P_x)) \n",
    "\n",
    "# Mencetak probabilitas massa dari setiap nilai dalam array x\n",
    "# menggunakan metode pmf() dari objek variabel acak X\n",
    "print(X.pmf(x))"
   ]
  },
  {
   "cell_type": "code",
   "execution_count": 5,
   "metadata": {},
   "outputs": [
    {
     "data": {
      "image/png": "[encoded data removed]",
      "text/plain": [
       "<Figure size 432x288 with 1 Axes>"
      ]
     },
     "metadata": {
      "needs_background": "light"
     },
     "output_type": "display_data"
    }
   ],
   "source": [
    "''' Plot the probability distribution of discrete random variable '''\n",
    "import matplotlib.pyplot as plt \n",
    "fig, ax = plt.subplots(1, 1) \n",
    "ax.plot(x, X.pmf(x), 'ro', ms=12, mec='r') \n",
    "ax.vlines(x, 0, X.pmf(x), colors='r', lw=4) \n",
    "plt.show()"
   ]
  },
  {
   "cell_type": "markdown",
   "metadata": {},
   "source": [
    "## Contoh Kasus Discreate Random Variables"
   ]
  },
  {
   "cell_type": "code",
   "execution_count": 6,
   "metadata": {},
   "outputs": [
    {
     "name": "stdout",
     "output_type": "stream",
     "text": [
      "[0.16666667 0.16666667 0.16666667 0.16666667 0.16666667 0.16666667]\n"
     ]
    }
   ],
   "source": [
    "from scipy.stats import rv_discrete\n",
    "\n",
    "# Nilai-nilai yang mungkin dari hasil pelemparan dadu\n",
    "x = [1, 2, 3, 4, 5, 6]\n",
    "# Probabilitas masing-masing nilai\n",
    "P_x = [1/6, 1/6, 1/6, 1/6, 1/6, 1/6]\n",
    "\n",
    "# Membuat variabel acak diskrit untuk pelemparan dadu\n",
    "X = rv_discrete(name='X', values=(x, P_x))\n",
    "\n",
    "# Mencetak probabilitas massa dari masing-masing nilai\n",
    "print(X.pmf(x))\n"
   ]
  },
  {
   "cell_type": "markdown",
   "metadata": {},
   "source": [
    "## Contoh Kasus Continous Random Variables"
   ]
  },
  {
   "cell_type": "code",
   "execution_count": 7,
   "metadata": {},
   "outputs": [
    {
     "name": "stdout",
     "output_type": "stream",
     "text": [
      "Probability of height 180 is: 0.024197072451914336\n"
     ]
    }
   ],
   "source": [
    "from scipy.stats import norm\n",
    "\n",
    "# Menggunakan distribusi normal untuk memodelkan tinggi badan\n",
    "# Dengan rata-rata 170 dan deviasi standar 10\n",
    "mean_height = 170\n",
    "std_dev_height = 10\n",
    "\n",
    "# Membuat variabel acak kontinu untuk tinggi badan\n",
    "X = norm(loc=mean_height, scale=std_dev_height)\n",
    "\n",
    "# Menghitung probabilitas untuk tinggi badan tertentu\n",
    "height = 180\n",
    "probability = X.pdf(height)\n",
    "print(\"Probability of height {} is: {}\".format(height, probability))\n"
   ]
  },
  {
   "cell_type": "markdown",
   "metadata": {},
   "source": [
    "## Kesimpulan\n",
    "- Variabel acak adalah konsep penting dalam statistika yang memungkinkan kita untuk memodelkan peristiwa yang memiliki ketidakpastian. \n",
    "- Ada dua jenis utama variabel acak: diskrit dan kontinu. **Variabel acak diskrit** hanya dapat mengambil sejumlah nilai yang dapat dihitung sementara **variabel acak kontinu** dapat mengambil nilai apa pun dalam bilangan real.  \n",
    "- Distribusi probabilitas dari sebuah variabel acak menentukan probabilitas dari hasil-hasil yang mungkin merepresentasikan nilai-nilai berbeda dari variabel acak tersebut.  \n",
    "- Untuk variabel acak diskrit, fungsi yang memetakan nilai probabilitas ke hasil-hasil individu disebut fungsi massa probabilitas (PMF).  \n",
    "-Untuk variabel acak kontinu, fungsi yang memetakan nilai probabilitas ke hasil-hasil individu disebut fungsi densitas probabilitas (PDF)."
   ]
  }
 ],
 "metadata": {
  "kernelspec": {
   "display_name": "Python 3",
   "language": "python",
   "name": "python3"
  },
  "language_info": {
   "codemirror_mode": {
    "name": "ipython",
    "version": 3
   },
   "file_extension": ".py",
   "mimetype": "text/x-python",
   "name": "python",
   "nbconvert_exporter": "python",
   "pygments_lexer": "ipython3",
   "version": "3.10.8"
  },
  "toc-autonumbering": true,
  "toc-showcode": false,
  "toc-showmarkdowntxt": false,
  "toc-showtags": false
 },
 "nbformat": 4,
 "nbformat_minor": 4
}
