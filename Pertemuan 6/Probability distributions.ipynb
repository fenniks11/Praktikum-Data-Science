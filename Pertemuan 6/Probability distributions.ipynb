{
 "cells": [
  {
   "cell_type": "markdown",
   "metadata": {},
   "source": [
    "# **Probability distributions**"
   ]
  },
  {
   "cell_type": "markdown",
   "metadata": {},
   "source": [
    "## Definisi Distribusi Probabilitas\n",
    "Cara untuk menggambarkan seberapa mungkin nilai-nilai tertentu dari suatu variabel acak. Distribusi probabilitas menggambarkan sebaran nilai-nilai yang mungkin terjadi."
   ]
  },
  {
   "cell_type": "markdown",
   "metadata": {},
   "source": [
    "## Variabel Acak Kontinu  \n",
    "Variabel yang dapat mengambil nilai-nilai dalam rentang tertentu, seperti tinggi badan siswa yang bisa berada di antara 150 hingga 200 cm."
   ]
  },
  {
   "cell_type": "markdown",
   "metadata": {},
   "source": [
    "## Fungsi Distribusi Probabilitas (PDF)\n",
    "Ini adalah fungsi matematika yang menggambarkan seberapa mungkin nilai tertentu dari variabel acak kontinu. Fungsi ini harus memenuhi dua syarat:\n",
    "\n",
    "1. **Non-negatif**: Nilai fungsi harus selalu lebih besar dari nol ($p(x) > 0$ untuk semua $x$).\n",
    "2. **Total Area di Bawah Kurva = 1**: Jumlah total area di bawah kurva fungsi distribusi probabilitas harus sama dengan 1.\n"
   ]
  },
  {
   "cell_type": "markdown",
   "metadata": {},
   "source": [
    "**Contoh Kasus**: Data rentang tinggi badan siswa dalam kelas adalah 150-200 cm. Gambarkan distribusi probabilitas data tersebut dengan menggunakan *density curve*. Hasilnya, area di bawah kurva yang berada antara 150-200 cm akan memberikan probabilitas bahwa siswa memiliki tinggi dalam rentang tersebut. Atau, dalam kasus lain, untuk mengetahui berapa nilai probabilitas siswa yang memiliki tinggi di sekitar 170 cm. Semakin tinggi nilai probabilitasnya, semakin mungkin tinggi badan siswa berada dalam rentang tersebut.  \n",
    "\n",
    "Contoh distribusi probabilitas yang umum meliputi **distribusi normal, distribusi eksponensial, dan distribusi beta**."
   ]
  },
  {
   "cell_type": "markdown",
   "metadata": {},
   "source": [
    "**Fungsi Distribusi Seragam (Uniform Distribution)**  \n",
    "Fungsi distribusi probabilitas yang kontinu yang paling sederhana. Dimana semua nilai dalam rentang tertentu memiliki peluang yang sama untuk terjadi."
   ]
  },
  {
   "cell_type": "markdown",
   "metadata": {},
   "source": [
    "- Interval $[a, b]$: Distribusi seragam menggambarkan variabel acak kontinu (X) yang memiliki nilai-nilai merata di seluruh rentang (a) hingga (b). Kita tulis ($X \\sim U(a, b)$). Artinya, variabel acak $X$ memiliki distribusi seragam kontinu di interval dari $a$ hingga $b$.\n",
    "- Fungsi Densitas Probabilitas (PDF): Fungsi densitas probabilitas dari distribusi seragam adalah:  \n",
    "$$f(x) = \\begin{cases} \\frac{1}{b-a}, & \\text{when $a \\le x \\le b$} \\\\[2ex] 0, & \\text{when $x < a$ or $x > b$} \\end{cases}$$\n",
    "\n",
    "- Contoh: Mari kita lihat distribusi seragam dengan interval ($a = -2$) hingga ($b = 0.8$). Semua nilai ($x$) dalam rentang ini memiliki peluang yang sama besar, yaitu ($\\frac{1}{0.8-(-2)} =\\frac{1}{2.8} = 0.3571$). Nilai (x) di luar rentang tersebut memiliki peluang 0."
   ]
  },
  {
   "cell_type": "code",
   "execution_count": 8,
   "metadata": {},
   "outputs": [],
   "source": [
    "import numpy as np\n",
    "import matplotlib.pyplot as plt\n",
    "import scipy.stats as stats\n",
    "from scipy.stats import uniform"
   ]
  },
  {
   "cell_type": "code",
   "execution_count": 9,
   "metadata": {},
   "outputs": [
    {
     "data": {
      "image/png": "[encoded data removed]",
      "text/plain": [
       "<Figure size 720x360 with 1 Axes>"
      ]
     },
     "metadata": {
      "needs_background": "light"
     },
     "output_type": "display_data"
    }
   ],
   "source": [
    "a = -2\n",
    "b = 0.8\n",
    "x = np.arange(-5, 5, 0.01)\n",
    "\n",
    "plt.figure(figsize=(10, 5))\n",
    "plt.plot(x, stats.uniform.pdf(x, loc=a, scale=b - a), color=\"darkblue\")\n",
    "plt.title(\"$X \\\\sim U(-2, 0.8)$\")\n",
    "plt.ylabel(\"probability\")\n",
    "\n",
    "plt.show()"
   ]
  },
  {
   "cell_type": "markdown",
   "metadata": {},
   "source": [
    "Kurva Uniform Distribution Function akan berbentuk persegi panjang karena nilai yang dihasilkan memiliki peluang $f(x) = \\begin{cases} \\frac{1}{b-a}\\end{cases}$.  \n",
    "\n",
    "Plotting 1000 sampel angka dari rentang -2 sampai 0.8"
   ]
  },
  {
   "cell_type": "code",
   "execution_count": 10,
   "metadata": {},
   "outputs": [
    {
     "data": {
      "image/png": "[encoded data removed]",
      "text/plain": [
       "<Figure size 720x360 with 1 Axes>"
      ]
     },
     "metadata": {
      "needs_background": "light"
     },
     "output_type": "display_data"
    }
   ],
   "source": [
    "rand_unif = stats.uniform.rvs(loc=-2, scale=2.8, size=1000)\n",
    "plt.figure(figsize=(10, 5))\n",
    "plt.hist(rand_unif, density=True, color=\"lightgrey\", edgecolor=\"darkgrey\")\n",
    "plt.xlabel(\"x\")\n",
    "plt.ylabel(\"Density\")\n",
    "plt.title('Histogram of rand_unif')\n",
    "plt.show()"
   ]
  },
  {
   "cell_type": "code",
   "execution_count": 11,
   "metadata": {},
   "outputs": [
    {
     "data": {
      "text/plain": [
       "array([ 313.26924012,  712.13593209,  143.09904862,  423.19973747,\n",
       "        105.50026503,  695.93947567,  453.98352405,  929.73017203,\n",
       "        214.16671178,  610.43536971,  479.2645801 ,  755.5339063 ,\n",
       "        310.76591923,  191.88300003,  973.15916179,  646.84032391,\n",
       "        816.83579044,  430.47551884,  593.9154825 ,  260.98869555,\n",
       "        479.55427253,  982.37360961,  756.42057468,  822.87781528,\n",
       "        394.29231854,  785.82220147,  962.69053358,  300.89334031,\n",
       "        386.35968896,  214.7987137 ,  606.84827518,  274.69655876,\n",
       "        804.02307658,  874.67928677,   60.75530005,  941.1977783 ,\n",
       "        538.76051296,   69.45803699,  534.67529313,  914.75059506,\n",
       "        139.17952656,   91.11290073,  564.23846099,  289.81531007,\n",
       "        284.15351332,  590.14357178,  914.09748575,  305.0478249 ,\n",
       "        536.05436677,  983.36786188,  666.47816093,  638.66246441,\n",
       "        768.2456469 ,  641.57723001,  620.74390167,  481.72035716,\n",
       "         99.19305801,  934.21559926,  382.64449543,  422.12024908,\n",
       "         66.72520934,  749.72050292,  417.53760095,  368.47515637,\n",
       "        398.71641682,  685.32174843,  295.44619889,  145.64795979,\n",
       "        350.19194951,  911.89247016,  705.56984498,  877.60704702,\n",
       "        676.11817515,  564.28239702,  888.06048518,  149.44338793,\n",
       "        451.13927332,  842.60419214,  520.4856552 ,  421.51769461,\n",
       "        534.56286469,  253.21836632,  116.25182913,  776.78841665,\n",
       "        674.93882569,  137.31361608,  891.93720859,  505.41510691,\n",
       "        803.99667294,  948.26232636, 1040.89761431,  546.61353352,\n",
       "        787.02440495,  607.03236881,  804.72310898,  941.36480015,\n",
       "        191.8753669 ,  423.20249661,  678.55875908, 1024.91874021,\n",
       "        103.54726999,  477.3519876 ,  274.65159739,  565.566351  ,\n",
       "        130.89615559,  487.73962188,  780.0213829 ,  578.21329839,\n",
       "        278.41954265,  310.02516027,  332.81380661,  684.27484183,\n",
       "        291.47411851,  790.81085823,  236.01479221,  564.75203608,\n",
       "        912.87727069,  808.97248247,  715.73179711,  727.94528099,\n",
       "        675.64890627,  448.09498758,  603.47934179,  309.10004779,\n",
       "        831.8191585 ,  892.93365312,  943.35969256,  124.01657183,\n",
       "        493.52477966,  130.53007454,  581.13170633,  458.4791271 ,\n",
       "        943.27892156,  138.01363599,  561.28178141, 1020.38180596,\n",
       "        849.14516223, 1022.03065433,  354.21920398,  948.01855949,\n",
       "        413.01490995,   93.52411578,   80.35684395,  623.41876613,\n",
       "        915.71088999,  458.26817204,  201.53069795,  736.53630373,\n",
       "        615.95605549, 1006.96043655,  566.5627912 ,  862.16263742,\n",
       "        992.78838773,  213.97950871,  812.52481855,  741.24769542,\n",
       "        857.76406111,  140.63585542,  351.37651211,  712.58296454,\n",
       "        941.1875378 ,  771.05868197,  610.11648706,  537.52593529,\n",
       "        884.99861069,  937.46057011,  354.3000314 ,  653.78110863,\n",
       "        995.60985388,  475.24000605,  291.68014362,  903.14219895,\n",
       "        697.46771294,  678.38694949,  492.34471843,  665.61952838,\n",
       "        841.20268266,  248.1603971 ,  204.66124717,  441.86168896,\n",
       "        391.64115603,  828.80174888, 1035.15429177,  519.06106845,\n",
       "        496.78258466,  210.84694334,  566.98308761,  992.24477216,\n",
       "        325.71509373,  812.35153146,  606.69070342,  104.65307353,\n",
       "        487.88592412,  746.56316927,  861.85000772,  338.94027982,\n",
       "        313.12056876,  132.24534716,  305.78954031,  214.25638808,\n",
       "        197.52675778,  458.25871897,  373.38240739,  843.27554508,\n",
       "       1021.90137988,  728.39671078,  398.08375507,  109.48350529,\n",
       "        481.77820544,  256.4708796 ,  661.85595007,  528.52695891,\n",
       "        669.1207367 ,  166.87671293,  993.88182465,  283.5668623 ,\n",
       "        950.86883966,  500.71975415,  669.59215957,  429.24706163,\n",
       "        211.07632915,  292.48781928,  108.92632551,   59.91438199,\n",
       "        406.20235033,  318.70057131,  602.9903423 ,  127.22906446,\n",
       "        157.07260418,  892.42505392,  121.19413834,  202.91290919,\n",
       "        863.7130816 ,  737.31930781,  564.32939541,  893.83219125,\n",
       "         75.67951442,  410.61855098,  214.41544237,  607.50549252,\n",
       "        904.65614617,  990.11204068,  332.23410981,  805.23344973,\n",
       "        282.18787412,  131.05652532,  534.44810026,  941.85399236,\n",
       "        949.16809927,  875.89918773,  994.9209954 ,  407.5268149 ,\n",
       "         61.81566237,  675.54442359,  909.13890873,  488.64744634,\n",
       "       1043.66293374,  782.07606294,  139.3593482 ,  626.99078252,\n",
       "        927.19368023,  323.42662927,  554.99119461, 1031.27776201,\n",
       "        275.5191246 ,  755.85059167,  669.58762489,  798.34857897,\n",
       "        757.07783125,  293.89298328,  744.76051651,   58.39042264,\n",
       "         93.13373009,  123.2190555 ,  451.05736713,  595.26509153,\n",
       "        598.25128178,  671.64480397,  461.83971327,  592.69121664,\n",
       "        389.02951288,  553.49034242,  513.25635874,  667.74057117,\n",
       "        365.57939406,  417.85057216,  393.44946313,  768.4217647 ,\n",
       "        543.3759709 ,  691.56117374,  271.79678431,  194.83615748,\n",
       "        738.5573171 ,  823.31087   ,  154.49436566,  547.71383335,\n",
       "        323.29158843,  746.12291227,  692.60641853,  251.53266829,\n",
       "        700.28978375,  432.05032855, 1025.8709666 , 1028.36731824,\n",
       "         86.96081729,  286.2420326 ,  457.80518164,  823.9554726 ,\n",
       "        798.87852226,  178.78105707,  737.87745365,  726.46370056,\n",
       "       1028.04267318,  260.67967869,  658.10750297,  796.50442182,\n",
       "        412.42803571,  718.80149498,  967.12961085,  695.3147828 ,\n",
       "        370.9963736 ,  726.36641944,  181.56273772,  850.74431748,\n",
       "        715.21994626,  290.32781051,   87.35808042,  372.46880645,\n",
       "        281.65591617,  412.077836  ,  440.59694049,  536.93144806,\n",
       "        932.29617113,  727.98848632,  823.14128338,   67.01327002,\n",
       "        481.89954546,  821.89233286, 1033.0505967 ,  598.23629722,\n",
       "        906.05591403,  541.37903286,  770.46412794,  444.48838844,\n",
       "        628.69533815,  393.79676362,   79.74876373,  871.73955909,\n",
       "        180.51377746,  467.52732592,  296.38540202,  523.50599885,\n",
       "        455.01746718,  221.36353839,  515.41284191,  463.9235338 ,\n",
       "        587.59690909,  284.08280073,  376.17551804,  281.56206995,\n",
       "        207.00488495,  954.80040546,  422.33576878,  620.23280573,\n",
       "        552.11414558,  778.3758611 ,  504.85950725,  512.03517773,\n",
       "        848.75954928,  371.46457857,  327.29075085,  301.38994557,\n",
       "        483.52956504,  826.22933625,  132.79885033,  236.52615693,\n",
       "        413.04801954,  410.23546776,  703.42555757,  910.89345958,\n",
       "        313.41869205, 1043.29956612,  999.69242489,  986.87939947,\n",
       "         74.51525772,  728.35787003,  336.39893504,  770.40326038,\n",
       "        641.23820557,  276.50030435,  250.2240901 ,  303.4668398 ,\n",
       "        326.4294612 ,  356.89412383,  918.77524746,  874.71201054,\n",
       "        368.4938219 , 1023.70622641,  998.89497601,  714.41685559,\n",
       "        145.34873379,  480.88549515,  937.76013842, 1004.72765572,\n",
       "        895.34285663,  569.92798763,  802.79507045,  804.4572421 ,\n",
       "        810.06645729,  467.06364588,  155.67698502,   81.97902514,\n",
       "        890.68580309,  154.96216204,  972.50306846,  469.9326142 ,\n",
       "        845.15665629,  858.10692817,  424.92599361,  126.6458364 ,\n",
       "        192.3884125 ,  695.71501211,  956.40458525,  437.46274038,\n",
       "        295.48105324,  654.44852012,  449.64393791,  355.5271357 ,\n",
       "        687.49505034,  595.44105672,  385.67291679,  251.82386915,\n",
       "        542.92016477,  165.73767786,  366.75379704,  221.38712122,\n",
       "        775.20871931,   93.48315544,  501.52850539,  420.3230336 ,\n",
       "        537.07145982,  676.80120576,  503.47438755,  934.54831532,\n",
       "        335.84923058,  442.60815364,  425.52492286,  919.4199622 ,\n",
       "        632.04419057,  608.62241212,  286.16241222,  244.41402023,\n",
       "        311.17097886,  189.79724067,  281.98524262,  359.52260322,\n",
       "        914.87204641,  140.95371714,  403.88091037, 1017.21147813,\n",
       "        883.40530282,  452.91238275,  225.38125955,  116.7057159 ,\n",
       "       1017.73679368,  786.35933588,  377.11894879,  919.01803169,\n",
       "        739.59048715,  208.08745209,  384.66969346,  998.55920497,\n",
       "        628.16305507,  728.94052311,  239.4331572 ,  470.03136764,\n",
       "        339.57970233, 1034.60538285,  684.75235032,  482.92789768,\n",
       "        163.36081198,  919.63201223,  918.07897739,  197.22959284,\n",
       "        332.14446533,  269.78178986,  259.2785435 ,  298.38780938,\n",
       "        932.83605362,  779.94364641,  756.10595957,  567.24283847,\n",
       "        747.03866704,  488.72074152, 1019.17772278,  793.72275457,\n",
       "        369.39232276, 1000.70537075,  717.33419559,  785.92723917,\n",
       "        349.7352005 ,  406.53443079,  515.67089483,  833.74717238,\n",
       "        472.07346949,  487.4001361 ,  227.50312597,  643.0578333 ,\n",
       "        610.21055432,  451.40535865,  575.55933732,  703.43195938,\n",
       "        551.97020525,  471.80128607,  415.42558667,  544.23620223,\n",
       "        615.2032058 ,  608.41719945,  832.01470239,  692.60721941,\n",
       "        207.02637788,  577.76604479,  465.36775378,  710.77679024,\n",
       "        358.16352773,  223.21150159,  274.70768746,  791.92740631,\n",
       "        197.8137273 ,  432.14623991, 1036.18948726,  458.35948181,\n",
       "        531.77989486,  233.18790558,   82.98490149,  275.98774827,\n",
       "        125.19423968, 1027.11319849,  622.54308749,   73.91591781,\n",
       "        885.58138295,  478.26404814,  812.23329403,   85.10564841,\n",
       "        212.96159458,  557.0043486 ,  344.23522742,   64.13917615,\n",
       "        103.35245854,  912.08180979,  596.70982058,  635.94147098,\n",
       "        488.35875935,  584.33195861,   85.01650028,  150.96166215,\n",
       "        100.59411936,  363.43113409,  780.10376431,  443.88243004,\n",
       "        216.46441339,  260.21735582,  634.84110093,  531.09980451,\n",
       "        697.08620205,  462.3827912 ,  516.15219201,  805.41588055,\n",
       "        273.04525039,  644.19282142,  953.09762285,  296.62146876,\n",
       "        932.27868782,  423.56536605,   85.82323589,  175.63826218,\n",
       "        337.29009529,  588.94786538,  558.59396709,  445.73240764,\n",
       "        106.41216866,  877.01397487,  527.16324336,  624.5713275 ,\n",
       "        967.65247633,  428.66582429,  942.08429945,  321.85641961,\n",
       "        668.53469582, 1019.79420668,  404.29715292,  838.11776299,\n",
       "        460.75598799,  123.88785892,  426.19559644,  346.53823732,\n",
       "        986.41689205,  707.37569423,  606.05896384,  612.81979697,\n",
       "        143.34801955, 1030.66500989,  475.42439909,  540.12066038,\n",
       "        603.69585435,  569.26982114,  999.6027947 , 1014.01008797,\n",
       "        810.76222369,   59.70236268,  871.93727489,  132.36633453,\n",
       "        727.37158906,  100.54572361,  650.70683601,  623.80585343,\n",
       "        421.55289209,  498.89981575,  378.66229735,  958.43958343,\n",
       "        974.03792059,  111.37390423,  917.28096078,  273.48728828,\n",
       "        244.51265072, 1038.76672326,  650.06625855,  519.30054064,\n",
       "        521.16879281,  203.69548378,  235.16237097,  118.36187621,\n",
       "        868.31617866,  429.91127933,  389.73109415,  211.81789495,\n",
       "        168.05173691,  351.15482023,  725.42380557,  812.04218101,\n",
       "        562.50996447,  911.50642898,  143.37450367,  587.58872479,\n",
       "        988.51548631,  419.7527822 ,  141.6519978 ,  843.12609578,\n",
       "        174.53175895,   77.90185091,  830.74410683,  484.55071136,\n",
       "        274.1712362 ,  441.15744047,  226.32593794,  541.31995004,\n",
       "        409.38542494,  137.95938077,   88.62903366,  667.21766615,\n",
       "        981.65336019,  226.25377116,  329.71728826,  657.94565637,\n",
       "        466.53783582,  388.15840373,   99.22549187,  904.2418181 ,\n",
       "        645.79751027,  481.84890284,  739.4485266 ,  426.0744179 ,\n",
       "        700.1552687 ,  210.96292999,  869.45380835,  381.36051679,\n",
       "        777.22714135,  595.33126874,  778.66757906,  281.49711988,\n",
       "        223.91076864,   81.85907265, 1003.17679469,  280.11318405,\n",
       "        287.87742372,  925.61660197,  146.28672791, 1024.27800315,\n",
       "        886.85900077,  499.38582875,  166.80810959,  778.21569053,\n",
       "        674.55608525,  735.46584988,  952.55931829,  960.66502898,\n",
       "       1040.044375  ,  755.19329182,  244.21766463,  520.87911662,\n",
       "        962.83202197,  569.75143542, 1031.09274748,  685.33188755,\n",
       "        323.00945109, 1025.18659129,  198.82103889,  759.76171929,\n",
       "        649.7385698 ,  701.94944513,  663.0518506 ,  395.59523164,\n",
       "        105.08278588,  282.31578346,  617.76645198,  919.66187545,\n",
       "        433.45730217,  908.88207603,  347.03020191,  892.45370233,\n",
       "        165.73595052,  387.65252255,  139.94550961,  865.13601303,\n",
       "        585.20650299,  804.85627277,  466.10037596,  551.62374837,\n",
       "        837.03390492,  577.98304414,  611.63788671,  965.39396847,\n",
       "        678.45235285,  832.05757465,   86.41716735,  906.2878547 ,\n",
       "        527.69035245,  478.85645072,  399.09204208,  716.41448246,\n",
       "        130.6803396 ,  212.40342714,  776.9784379 ,  691.28206762,\n",
       "        352.32509467,  774.42993691,  200.08669243,  248.35242287,\n",
       "        339.75368688,  645.82785682,  609.13606912,  525.01365384,\n",
       "        429.5427798 ,  732.20246593,  683.4379983 ,  769.54086291,\n",
       "        341.11212113,  945.05292814,  530.46543966,   94.35107445,\n",
       "        840.44016451,  557.97442331,  479.22871955,   67.89175992,\n",
       "        802.31172552,  415.41868103,  161.35707874,  516.45808793,\n",
       "        124.4003938 ,  842.21090461,  613.92862769,  575.39365323,\n",
       "        881.35329554,  297.54670221,  660.08322536, 1003.19528946,\n",
       "        424.63303578, 1038.21755913,  751.10228035,  877.02746019,\n",
       "        587.76672733,  413.74347331,  650.60778353,  227.82717203,\n",
       "        776.53184088,  246.55006553,  508.21632678,  377.1811258 ,\n",
       "        612.53447303,  882.5080888 , 1040.32064783,  944.8004584 ,\n",
       "        893.76099815,  946.68310015,  984.42249712,  947.72067962,\n",
       "        660.49640458,  554.57003758,  650.77215596,  863.44617213,\n",
       "        152.4183104 ,  237.46231053,  773.19621842,  620.1599843 ,\n",
       "        113.60446836,  865.48163919,  865.23231267,  379.55301843,\n",
       "        797.45117405,  139.26791125, 1025.86744162,  848.88546906,\n",
       "        914.34179984,  494.58490059,  185.16776516,   82.87471691,\n",
       "        759.6155487 ,  315.21660055,  930.73188469,  666.31530674,\n",
       "        906.29865085,  932.42262254,  343.84742949,  379.4477632 ,\n",
       "        671.09356209,  471.65820712,  399.27072623,  857.28016354,\n",
       "       1007.15452288,  700.80872532,  914.0282212 , 1032.92936823,\n",
       "        613.75678031,  240.77962836,  169.17137853,  811.79009512,\n",
       "         56.63298299,  230.73449539,  748.26925535,  219.91044664,\n",
       "       1034.41921382,  738.82048945, 1003.57867607,   82.31079294,\n",
       "         69.45470009,  526.81192566,  451.14821275,  474.50520772,\n",
       "        545.93788097,  344.0404434 ,  421.54296497,  209.93519799,\n",
       "        739.9470051 ,  213.37541511, 1034.21772692, 1004.16368585,\n",
       "        364.9914063 ,  580.58498372,  257.74272508,  646.87133705,\n",
       "         60.49102303,  775.46360135,  611.12630919,  423.98330061,\n",
       "        582.2997986 ,  405.62415078,  675.33343369,  296.85843787,\n",
       "        788.34138308,  209.75996818,  970.52112832,  731.35809568,\n",
       "        153.5849563 ,  730.06790426,  578.70070096,  629.06598868,\n",
       "       1019.45736753,  699.72201369,  222.91225048,  926.15299887,\n",
       "         94.54015287,  401.24430462,  403.69953995, 1024.9395657 ,\n",
       "        842.94103703,  193.42556464,  330.0140862 ,  641.39898515,\n",
       "        385.93478328,  408.98278409,  761.63763658,  857.56401302,\n",
       "        726.57094528,  276.63689356,  927.38243182,  424.64035699,\n",
       "        100.35745686,  616.63616849,  286.76207392,  652.23793217,\n",
       "        455.37804704,  908.12242997,  844.09870976,  116.68645081,\n",
       "        580.95155274,  154.25051532,  832.81203042,  871.70387992,\n",
       "       1003.98486042,   59.84196759,  702.9021278 ,  961.94624125,\n",
       "        152.25346852,  851.03948342,  936.34742667,  946.49428039,\n",
       "        696.24011504,  562.66218673,  716.97410664,  655.53357632,\n",
       "        228.76983495,  501.65083093,  179.09477064,  435.59299168,\n",
       "        768.98382483,  437.84047521,  284.76589453,  824.28108764,\n",
       "        747.66065968,  157.66864768,  419.38913546,  940.05651553,\n",
       "        690.29190836,  880.63333117,  437.71023436,  373.34194274,\n",
       "        147.66530989,  419.44514376,  928.21064512,  657.66688389,\n",
       "        669.73672178,  329.518537  ,  754.6731277 ,  417.95278655,\n",
       "        660.91850096,  341.26184533,  154.80982136,  969.28282569,\n",
       "        303.98472336,  988.55755177,  994.92117579,  535.24523545,\n",
       "        966.71046837,  883.65951313,  256.52334509,  547.65993504,\n",
       "        882.80358723,  520.23920485,  491.56802187,  689.40761561,\n",
       "        992.5208809 ,  745.30890158,  735.95390643,  459.35502646,\n",
       "         66.3422057 ,  899.14394061,  613.96469828,  249.76773963,\n",
       "        708.05362548,  360.00980569, 1019.20592661,  756.28152332,\n",
       "        370.77977092,  644.3594784 ,  432.58840158,  521.44119459,\n",
       "        243.36852744,  267.31823314, 1032.97822467,  118.56336364,\n",
       "        411.16954326,  555.40423085,  855.83017992,  740.10380851,\n",
       "       1041.42873012,  432.9927993 ,  889.93659595,  167.64282077,\n",
       "         91.11630741,  446.0623727 ,  526.88874202,  849.00671481,\n",
       "        241.31334817,  462.79708877,   73.9491454 ,  971.47008652,\n",
       "        256.97548792, 1018.78284657,  369.20716946,  752.56314956])"
      ]
     },
     "execution_count": 11,
     "metadata": {},
     "output_type": "execute_result"
    }
   ],
   "source": [
    "random_samples"
   ]
  },
  {
   "cell_type": "markdown",
   "metadata": {},
   "source": [
    "Menggabung kedua histogram densitas dengan distribusi probabilitas seragam untuk interval $[-2,0.8]$, dengan menerapkan fungsi unform.pdf()."
   ]
  },
  {
   "cell_type": "code",
   "execution_count": 12,
   "metadata": {},
   "outputs": [
    {
     "data": {
      "image/png": "[encoded data removed]",
      "text/plain": [
       "<Figure size 720x360 with 1 Axes>"
      ]
     },
     "metadata": {
      "needs_background": "light"
     },
     "output_type": "display_data"
    }
   ],
   "source": [
    "a = -2\n",
    "b = 0.8\n",
    "\n",
    "plt.figure(figsize=(10, 5))\n",
    "plt.hist(rand_unif, density=True, color=\"lightgrey\", edgecolor=\"darkgrey\")\n",
    "plt.title(\"Uniform distribution for the interval [-2,0.8]\", fontsize =16)\n",
    "\n",
    "x = np.arange(-5, 5, 0.001)\n",
    "plt.plot(x, stats.uniform.pdf(x, loc=a, scale=2.8), color=\"darkblue\")\n",
    "\n",
    "plt.ylim(-0.01, 0.4)\n",
    "plt.xlim(-3, 3)\n",
    "\n",
    "plt.xlabel(\"x\", fontsize =14)\n",
    "plt.ylabel(\"Density\", fontsize =14)\n",
    "plt.show()"
   ]
  },
  {
   "cell_type": "markdown",
   "metadata": {},
   "source": [
    "Contoh kasus lain:  \n",
    "Seorang penggemar suatu merk teh berencana menghemat pembeliannya, ia berencana akan membeli 1000 mg bubuk teh saat persediaan teh-nya bersisa 50mg.  \n",
    "\n",
    "Jika kita memodelkan jumlah bubuk teh yang akan dibeli oleh penggemar teh ini sebagai variabel acak $X$, yang mengikuti distribusi seragam dalam rentang 50 mg hingga 1050 mg, tentukan probabilitas bahwa jumlah bubuk teh yang akan dibeli melebihi 800 mg / $P(X>800 mg)$."
   ]
  },
  {
   "cell_type": "code",
   "execution_count": 13,
   "metadata": {},
   "outputs": [
    {
     "name": "stdout",
     "output_type": "stream",
     "text": [
      "Probabilitas bahwa jumlah teh yang dibeli lebih dari 800 mg: 0.25\n"
     ]
    },
    {
     "data": {
      "image/png": "[encoded data removed]",
      "text/plain": [
       "<Figure size 432x288 with 1 Axes>"
      ]
     },
     "metadata": {
      "needs_background": "light"
     },
     "output_type": "display_data"
    }
   ],
   "source": [
    "# Tentukan batas-batas distribusi seragam\n",
    "a = 50  # batas bawah (mg)\n",
    "b = 1050  # batas atas (mg)\n",
    "\n",
    "# Buat objek distribusi seragam\n",
    "uniform_dist = uniform(loc=a, scale=b-a)\n",
    "\n",
    "# Hitung probabilitas P(X > 800 mg)\n",
    "prob_greater_than_800 = 1 - uniform_dist.cdf(800)\n",
    "\n",
    "# Print hasil probabilitas\n",
    "print(\"Probabilitas bahwa jumlah teh yang dibeli lebih dari 800 mg:\", prob_greater_than_800)\n",
    "\n",
    "# Plot histogram dari sampel acak\n",
    "sample_size = 1000\n",
    "random_samples = uniform_dist.rvs(size=sample_size)\n",
    "\n",
    "plt.hist(random_samples, density=True, bins='auto', histtype='stepfilled', alpha=0.2)\n",
    "plt.axvline(800, color='red', linestyle='--', label='800 mg')\n",
    "plt.xlabel('Jumlah Teh (mg)')\n",
    "plt.ylabel('Densitas Probabilitas')\n",
    "plt.title('Distribusi Seragam Kontinu (X ~ U(50, 1050))')\n",
    "plt.legend()\n",
    "plt.grid(True)\n",
    "plt.show()"
   ]
  },
  {
   "cell_type": "markdown",
   "metadata": {},
   "source": [
    "# **Hypothesys Testing**"
   ]
  },
  {
   "cell_type": "markdown",
   "metadata": {},
   "source": [
    "Pengujian hipotesis(*hypothesys Testing*) adalah metode statistik yang digunakan untuk membuat keputusan berdasarkan data eksperimen.   \n",
    "\n",
    "Mis. Asumsi tentang parameter populasi, seperti rata-rata siswa dalam kelas adalah 40 atau seorang anak laki-laki lebih tinggi daripada anak perempuan.  \n",
    "\n",
    "Hal ini perlu dibuktikan secara matematis dengan pengujian hipotesis untuk mengetahui apakah asumsi tersebut benar atau tidak"
   ]
  },
  {
   "cell_type": "markdown",
   "metadata": {},
   "source": [
    "Dasar hipotesis ada dua yaitu, normalisasi(*normalisation*) dan normalisasi standar(*standard normalisation*).  \n",
    "- **Normalisasi**  \n",
    "    - Proses mengubah data menjadi bentuk yang lebih teratur atau standar. Ini membantu kita membandingkan data yang berbeda skala atau distribusi.\n",
    "    - Contoh: Terdapat data tinggi siswa(cm) dan ingin membandingkannya dengan data berat badan dalam kg, maka perlu mengonversi keduanya ke skala yang serupa, misalnya dengan mengubah tinggi menjadi persentil.\n",
    "    - Normalisasi memastikan bahwa data memiliki distribusi yang lebih seragam dan dapat dibandingkan dengan lebih baik.\n",
    "\n",
    "- **Standalisasi**\n",
    "    - Proses mengubah data menjadi distribusi normal dengan rata-rata 0 dan deviasi standar 1.\n",
    "    - Fungsinya ketika ingin membandingkan data dengan distribusi normal atau ketika menggunakan metode statistik tertentu yang mengasumsikan distribusi normal.\n",
    "    - Contoh: Jika kita memiliki data skor ujian dan ingin menghitung z-score (jarak dari rata-rata dalam satuan deviasi standar), kita perlu melakukan standarisasi terlebih dahulu."
   ]
  }
 ],
 "metadata": {
  "kernelspec": {
   "display_name": "Python 3",
   "language": "python",
   "name": "python3"
  },
  "language_info": {
   "codemirror_mode": {
    "name": "ipython",
    "version": 3
   },
   "file_extension": ".py",
   "mimetype": "text/x-python",
   "name": "python",
   "nbconvert_exporter": "python",
   "pygments_lexer": "ipython3",
   "version": "3.10.8"
  }
 },
 "nbformat": 4,
 "nbformat_minor": 2
}
