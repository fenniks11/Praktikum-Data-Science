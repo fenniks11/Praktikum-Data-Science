### Materi Pertemuan 1
[Klik Disini](https://drive.google.com/drive/folders/1oVEvzaGcFL8qRtN7u3nGmQ5YDZowC1jl?usp=drive_link)

## Absensi dan Pengumpulan Tugas
[Klik Disini](https://forms.gle/rZq6UgyRAyMz45fv5)

Buatlah sebuah kelas yang berisi beberapa atribut, function __init__() serta beberapa function lainnya(minimal 2 function) sebagai bagian operasi dari data. Dengan ketentuan:
1) Tidak boleh sama dengan materi
2) Jelaskan program apa yang sedang dibuat.  
Mis. Berikut ini adalah implementasi class dan function kelas Python untuk melakukan analisis sederhana terhadap data pengguna. Data pengguna akan disimpan dalam sebuah dictionary yang berisi informasi seperti nama, usia, kota, dan pekerjaan. 
3) Tunjukkan output
3) Setiap potongan kode(nama class, atribut, function) dan output yang dihasilkan harus diberi penjelasan.
4) Kerjakan menggunakan text editor Jupyter Notebook atau langsung pada file Nama_NIM_TugasX.ipynb yang ada di [sini](https://drive.google.com/drive/folders/1oVEvzaGcFL8qRtN7u3nGmQ5YDZowC1jl?usp=drive_link)
