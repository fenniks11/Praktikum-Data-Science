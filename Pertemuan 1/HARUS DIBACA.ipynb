{
 "cells": [
  {
   "cell_type": "markdown",
   "metadata": {},
   "source": [
    "### Materi Pertemuan 1\n",
    "[Klik Disini](https://drive.google.com/drive/folders/1oVEvzaGcFL8qRtN7u3nGmQ5YDZowC1jl?usp=drive_link)\n"
   ]
  },
  {
   "cell_type": "markdown",
   "metadata": {},
   "source": [
    "## Absensi dan Pengumpulan Tugas\n",
    "[Klik Disini](https://forms.gle/rZq6UgyRAyMz45fv5)\n"
   ]
  },
  {
   "cell_type": "markdown",
   "metadata": {},
   "source": [
    "Buatlah sebuah kelas yang berisi beberapa atribut, function __init__() serta beberapa function lainnya(minimal 2 function) sebagai bagian operasi dari data. Dengan ketentuan:\n",
    "1) Tidak boleh sama dengan materi\n",
    "2) Jelaskan program apa yang sedang dibuat.  \n",
    "Mis. Berikut ini adalah implementasi class dan function kelas Python untuk melakukan analisis sederhana terhadap data pengguna. Data pengguna akan disimpan dalam sebuah dictionary yang berisi informasi seperti nama, usia, kota, dan pekerjaan. \n",
    "3) Tunjukkan output\n",
    "3) Setiap potongan kode(nama class, atribut, function) dan output yang dihasilkan harus diberi penjelasan.\n",
    "4) Kerjakan menggunakan text editor Jupyter Notebook atau langsung pada file Nama_NIM_TugasX.ipynb yang ada di [sini](https://drive.google.com/drive/folders/1oVEvzaGcFL8qRtN7u3nGmQ5YDZowC1jl?usp=drive_link)"
   ]
  },
  {
   "cell_type": "code",
   "execution_count": null,
   "metadata": {},
   "outputs": [],
   "source": []
  }
 ],
 "metadata": {
  "kernelspec": {
   "display_name": "Python 3",
   "language": "python",
   "name": "python3"
  },
  "language_info": {
   "name": "python",
   "version": "3.10.8"
  }
 },
 "nbformat": 4,
 "nbformat_minor": 2
}
